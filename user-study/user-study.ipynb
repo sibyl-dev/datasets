{
 "metadata": {
  "colab": {
   "private_outputs": true,
   "provenance": []
  },
  "kernelspec": {
   "display_name": "Python 3 (ipykernel)",
   "language": "python",
   "name": "python3"
  },
  "language_info": {
   "codemirror_mode": {
    "name": "ipython",
    "version": 3
   },
   "file_extension": ".py",
   "mimetype": "text/x-python",
   "name": "python",
   "nbconvert_exporter": "python",
   "pygments_lexer": "ipython3",
   "version": "3.10.12"
  }
 },
 "nbformat_minor": 4,
 "nbformat": 4,
 "cells": [
  {
   "cell_type": "markdown",
   "source": [
    "# Instructions\n",
    "\n",
    "Please read through all cells in this notebook carefully.\n",
    "\n",
    "**⭐Tasks that you need to do to complete the study are marked by stars.**\n",
    "\n",
    "**⭐You can run cells using the run arrow (<span style=\"font-family: monospace\">▶</span>) in the top toolbar or with Run->Run Selected Cell.**"
   ],
   "metadata": {
    "id": "yzghHS5Hxxso"
   }
  },
  {
   "cell_type": "markdown",
   "source": [
    "# Background questions\n",
    "\n",
    "**⭐ In the code block below, please answer the questions.**"
   ],
   "metadata": {
    "id": "ZyUm3xNsjhwt"
   }
  },
  {
   "cell_type": "code",
   "source": [
    "# How many months/years of Python coding experience do you have?\n",
    "# ANSWER HERE:\n",
    "\n",
    "# Do you have any experience with machine learning (ML) programming? If yes, how many months/years?\n",
    "# ANSWER HERE:\n",
    "\n",
    "# Please record the current time (hours and minutes) that you are answering this question.\n",
    "# This will be used only to measure the time it took to complete the study.\n",
    "# ANSWER HERE:"
   ],
   "metadata": {
    "id": "shc72nSnjZ2l",
    "tags": [],
    "trusted": true
   },
   "execution_count": null,
   "outputs": []
  },
  {
   "cell_type": "markdown",
   "source": [
    "## Introduction\n",
    "\n",
    "In this task, we will ask you to generate *feature contribution explanations* of ML model predictions using the Pyreal python library.\n",
    "\n",
    "A **feature contribution explanation** shows how much each feature contributed to an ML model's prediction. Contributions are negative if a given feature value decreased the model prediction, and positive if it increased the model prediction.\n",
    "\n",
    "For example, consider a model that predicts the sale price of a house. A feature contribution explanation may tell you that the price increased by \\\\$8,000 because the house is in a good neighborhood, and decreased by \\\\$1,000 because it has two bedrooms. This information could be shown as a table with the following data:\n",
    "\n",
    "| Feature | Value | Contribution |\n",
    "|---|---|---|\n",
    "| Neighborhood Quality | Good | 8000 |\n",
    "| Bedrooms | 2 | -1000 |\n",
    "\n",
    "## How to Use Pyreal\n",
    "\n",
    "Pyreal is python library that generates ML model explanations such as feature contribution explanations.\n",
    "\n",
    "To use Pyreal, you must first make a RealApp object, which takes in data, a trained ML model, and a list of transformers. We will provide any data, model, or transformers you need to complete the tasks in this study.\n",
    "\n",
    "You can then use the RealApp to generate explanations on the input data of interest, and then use Pyreal's **visualize** module to make graphs of the explanations.\n",
    "\n",
    "**⭐ Run the sample code below for an example of how to use Pyreal. You can use/copy this code throughout the study as needed.**\n",
    "\n",
    "For more information on how to use Pyreal, you can consult the [documentation](https://dtail.gitbook.io/pyreal). However, the sample code below should be sufficient to complete this user study.\n"
   ],
   "metadata": {
    "id": "dQFuo5HDzxm_"
   }
  },
  {
   "cell_type": "code",
   "source": [
    "import joblib\n",
    "import pandas as pd\n",
    "from pyreal import RealApp\n",
    "from pyreal.visualize import feature_bar_plot\n",
    "\n",
    "DIR_BIKE = \"../datasets/bike-sharing/\"\n",
    "\n",
    "# Required components - these will be given to you ------------------------------------\n",
    "# Training dataset\n",
    "data_train = pd.read_csv(DIR_BIKE + \"bike-sharing_train-data.csv\")\n",
    "y_train = data_train[\"cnt\"]\n",
    "X_train = data_train.drop(columns=\"cnt\")\n",
    "\n",
    "# Pretrained prediction pipeline (transforms data and makes predictions using a machine learning (ML) model)\n",
    "pipeline = joblib.load(DIR_BIKE + \"bike-sharing_pipeline.pkl\")\n",
    "\n",
    "# Input data to explain\n",
    "days_of_interest = pd.read_csv(DIR_BIKE + \"bike-sharing_input.csv\")\n",
    "# -------------------------------------------------------------------------------------\n",
    "\n",
    "# Use this sample code for the tasks below -------------------------------------------\n",
    "# Create new explanation application object from the sklearn pipeline\n",
    "realapp = RealApp.from_sklearn(pipeline, X_train=X_train, y_train=y_train)\n",
    "\n",
    "# Produce a feature contribution explanations\n",
    "exp = realapp.produce_feature_contributions(days_of_interest)\n",
    "\n",
    "# Visualize the explanation for the first day\n",
    "feature_bar_plot(exp[0], num_features=8, select_by=\"absolute\")\n",
    "\n",
    "# Visualize the explanation for the second day\n",
    "feature_bar_plot(exp[1], num_features=8, select_by=\"absolute\")\n",
    "# -------------------------------------------------------------------------------------"
   ],
   "metadata": {
    "id": "38fMvxbYy7_G",
    "tags": [],
    "trusted": true
   },
   "execution_count": null,
   "outputs": []
  },
  {
   "cell_type": "markdown",
   "source": [
    "**⭐ Run the cell below to initialize data access filepaths.**\n"
   ],
   "metadata": {
    "id": "Jrv3ETBVzbpO"
   }
  },
  {
   "cell_type": "code",
   "source": [
    "DIR_BASE = \"../datasets/\"\n",
    "DIR_CALIFORNIA = DIR_BASE + \"california-housing/\"\n",
    "DIR_CHURN = DIR_BASE + \"cell-phone-churn/\"\n",
    "DIR_STUDENT = DIR_BASE + \"student-performance/\""
   ],
   "metadata": {
    "id": "Pcl53M-Tpca1",
    "trusted": true
   },
   "execution_count": null,
   "outputs": []
  },
  {
   "cell_type": "markdown",
   "source": [
    "## Dataset 1: Iranian Churn data\n",
    "\n",
    "### Preparing data and model\n",
    "\n",
    "We will be asking you to generate interpretable explanations on multiple datasets. We will begin with the [Iranian Churn Dataset](https://archive.ics.uci.edu/dataset/563/iranian+churn+dataset).\n",
    "\n",
    "In this dataset, each row represents a customer of a cell phone company. The target variable we are predicting is whether that customer will churn (ie., cancel their subscription with the company) after one year of service.\n",
    "\n",
    "**⭐Run the following cell to load the training data and the pretrained prediction pipeline.**"
   ],
   "metadata": {
    "id": "ziVVIdku1d52"
   }
  },
  {
   "cell_type": "code",
   "source": [
    "import pandas as pd\n",
    "import joblib\n",
    "import urllib\n",
    "\n",
    "# Load in data\n",
    "data_train = pd.read_csv(DIR_CHURN + \"cell-phone-churn_train-data.csv\")\n",
    "y_train = data_train[\"Churn\"]\n",
    "X_train = data_train.drop(columns=\"Churn\")\n",
    "\n",
    "# Load in sklearn pipeline\n",
    "pipeline = joblib.load(DIR_CHURN + \"cell-phone-churn_pipeline.pkl\")"
   ],
   "metadata": {
    "id": "wmTAelWS1bTt",
    "trusted": true
   },
   "execution_count": null,
   "outputs": []
  },
  {
   "cell_type": "markdown",
   "source": [
    "### Generating explanations\n",
    "\n",
    "In the following cell, we load in a few dataset customers of interest.\n",
    "\n",
    "**⭐Generate one feature contribution explanation per customer, explaining the model's prediction on these customers. The explanations should be presented as bar plots showing the 8 features that contribute the most (absolute value).**\n",
    "\n",
    "If you have done so correctly, you should end up with 3 bar plot explanations, similar to the ones generated by the sample code.\n"
   ],
   "metadata": {
    "id": "yZ3tYR0NBCSr"
   }
  },
  {
   "cell_type": "code",
   "source": [
    "customers_of_interest = pd.read_csv(DIR_CHURN + \"cell-phone-churn_input.csv\")\n",
    "\n",
    "# YOUR CODE HERE\n",
    "# FOLLOW THE EXAMPLE OF THE SAMPLE CODE ABOVE\n",
    "# YOU SHOULD GENERATE 3 BAR PLOT GRAPHS TOTAL"
   ],
   "metadata": {
    "id": "oamF39qcArnE",
    "trusted": true
   },
   "execution_count": null,
   "outputs": []
  },
  {
   "cell_type": "markdown",
   "source": [
    "## California Housing Dataset\n",
    "\n",
    "Next, we will ask you to make interpretable explanations on the [California Housing Dataset]()\n",
    "\n",
    "In this dataset, each row refers to a block of houses in California, and the target variable to predict is the median price of houses in this block.\n",
    "\n",
    "**⭐Run the following cell to load the training data, the pretrained ML model, and a list of data transformers for this dataset.**"
   ],
   "metadata": {
    "id": "BvO_a7EtC-3U"
   }
  },
  {
   "cell_type": "code",
   "source": [
    "# Load in data\n",
    "data_train = pd.read_csv(DIR_CALIFORNIA + \"california-housing_train-data.csv\")\n",
    "y_train = data_train[\"MedianPrice\"]\n",
    "X_train = data_train.drop(columns=\"MedianPrice\")\n",
    "\n",
    "# Load in sklearn pipeline\n",
    "pipeline = joblib.load(DIR_CALIFORNIA + \"california-housing_pipeline.pkl\")"
   ],
   "metadata": {
    "id": "vg-dRvALD4Cg",
    "trusted": true
   },
   "execution_count": null,
   "outputs": []
  },
  {
   "cell_type": "markdown",
   "source": [
    "### Generating explanations\n",
    "\n",
    "In the following cell, we load in a few dataset housing blocks of interest.\n",
    "\n",
    "**⭐Generate one feature contribution explanation per block, explaining the model's prediction on these blocks. The explanations should be presented as bar plots showing the 8 features that contribute the most (absolute value).**\n",
    "\n",
    "If you have done so correctly, you should end up with 3 bar plot explanations."
   ],
   "metadata": {
    "id": "5C-Jk3TPxeaB"
   }
  },
  {
   "cell_type": "code",
   "source": [
    "blocks_of_interest = pd.read_csv(DIR_CALIFORNIA + \"california-housing_input.csv\")\n",
    "\n",
    "# YOUR CODE HERE\n",
    "# FOLLOW THE EXAMPLE OF THE SAMPLE CODE ABOVE\n",
    "# YOU SHOULD GENERATE 3 BAR PLOT GRAPHS TOTAL"
   ],
   "metadata": {
    "id": "ZE14yWQPvR87",
    "trusted": true
   },
   "execution_count": null,
   "outputs": []
  },
  {
   "cell_type": "markdown",
   "source": [
    "## Student Performance Dataset\n",
    "\n",
    "Next, we will ask you to make interpretable explanations on the [Student Performance Dataset]()\n",
    "\n",
    "In this dataset, each row refers to a student at a school in Portugal, and the target variable to predict is whether they will pass or fail a class.\n",
    "\n",
    "**⭐Run the following cell to load the training data, the pretrained ML model, and a list of data transformers for this dataset.**"
   ],
   "metadata": {
    "id": "lN0CLBAnz8m-"
   }
  },
  {
   "cell_type": "code",
   "outputs": [],
   "source": [
    "# Load in data\n",
    "data_train = pd.read_csv(DIR_STUDENT + \"student-performance_train-data.csv\")\n",
    "y_train = data_train[\"Pass\"]\n",
    "X_train = data_train.drop(columns=\"Pass\")\n",
    "\n",
    "# Load in sklearn pipeline\n",
    "pipeline = joblib.load(DIR_STUDENT + \"student-performance_pipeline.pkl\")"
   ],
   "metadata": {
    "collapsed": false
   },
   "execution_count": null
  },
  {
   "cell_type": "markdown",
   "source": [
    "### Generating explanations\n",
    "\n",
    "In the following cell, we load in a few dataset students of interest.\n",
    "\n",
    "**⭐Generate one feature contribution explanation per student, explaining the model's prediction on these students. The explanations should be presented as bar plots showing the 8 features that contribute the most (absolute value).**\n",
    "\n",
    "If you have done so correctly, you should end up with 3 bar plot explanations.\n"
   ],
   "metadata": {
    "id": "rDzz5z511mGa"
   }
  },
  {
   "cell_type": "code",
   "source": [
    "students_of_interest = pd.read_csv(DIR_STUDENT + \"student-performance_input.csv\")\n",
    "\n",
    "# YOUR CODE HERE\n",
    "# FOLLOW THE EXAMPLE OF THE SAMPLE CODE ABOVE\n",
    "# YOU SHOULD GENERATE 3 BAR PLOT GRAPHS TOTAL"
   ],
   "metadata": {
    "tags": [],
    "id": "sgqRD7Kb0TWt",
    "trusted": true
   },
   "execution_count": null,
   "outputs": []
  },
  {
   "cell_type": "markdown",
   "source": [
    "**⭐Please answer the final retrospective questions in the block below:**"
   ],
   "metadata": {
    "collapsed": false
   }
  },
  {
   "cell_type": "code",
   "outputs": [],
   "source": [
    "# Please record the current time (hours and minutes) that you are answering this question.\n",
    "# This will be used only to measure the time it took to complete the study.\n",
    "# ANSWER HERE: \n",
    "\n",
    "# How easy was it to generate explanations using Pyreal? Please answer on a scale from 1 to 5, where 1 means very difficult and 5 means very easy, and briefly explain your rating.\n",
    "# ANSWER HERE: (1-5, and briefly explain)\n",
    "\n",
    "# If you found yourself in a situation where you needed to get explanations of ML model predictions, how likely would you be to use Pyreal? Please answer on a scale from 1 to 5, where 1 means very unlikely and 5 means very likely, and briefly explain your rating.\n",
    "# ANSWER HERE: (1-5, and briefly explain)"
   ],
   "metadata": {
    "collapsed": false
   },
   "execution_count": null
  },
  {
   "cell_type": "markdown",
   "source": [
    "**⭐Thank you for completing the user study! To submit your work, please use the Download button in the top toolbar (or File->Download) to save the notebook, and then submit the downloaded notebook on the original survey page.**"
   ],
   "metadata": {}
  }
 ]
}

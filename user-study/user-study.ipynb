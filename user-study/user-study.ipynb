{
 "metadata": {
  "colab": {
   "private_outputs": true,
   "provenance": []
  },
  "kernelspec": {
   "display_name": "Python 3 (ipykernel)",
   "language": "python",
   "name": "python3"
  },
  "language_info": {
   "codemirror_mode": {
    "name": "ipython",
    "version": 3
   },
   "file_extension": ".py",
   "mimetype": "text/x-python",
   "name": "python",
   "nbconvert_exporter": "python",
   "pygments_lexer": "ipython3",
   "version": "3.10.12"
  }
 },
 "nbformat_minor": 4,
 "nbformat": 4,
 "cells": [
  {
   "cell_type": "markdown",
   "source": "# Instructions\n\nPlease read through all cells in this notebook carefully.\n\n**⭐Tasks that you need to do to complete the study are marked by stars.**\n\n**⭐You can run cells using the run arrow (<span style=\"font-family: monospace\">▶</span>) in the top toolbar or with Run->Run Selected Cell.**",
   "metadata": {
    "id": "yzghHS5Hxxso"
   }
  },
  {
   "cell_type": "markdown",
   "source": "# Background questions\n\n**⭐ In the code block below, please answer the questions.**",
   "metadata": {
    "id": "ZyUm3xNsjhwt"
   }
  },
  {
   "cell_type": "code",
   "source": "# How many months/years of Python coding experience do you have?\n# ANSWER HERE:\n\n# Do you have any experience with machine learning (ML) programming? If yes, how many months/years?\n# ANSWER HERE:",
   "metadata": {
    "id": "shc72nSnjZ2l",
    "tags": [],
    "trusted": true
   },
   "execution_count": null,
   "outputs": []
  },
  {
   "cell_type": "markdown",
   "source": "## Installing and importing libraries\n\n⭐**Please run the next cell to install required libraries. If prompted, restart the runtime after running the cell using the \"restart runtime\" button at the bottom of the output.**",
   "metadata": {
    "id": "g1WnqpAF1GhX"
   }
  },
  {
   "cell_type": "markdown",
   "source": [
    "## Introduction\n",
    "\n",
    "In this task, we will ask you to generate *feature contribution explanations* of ML model predictions using the Pyreal python library.\n",
    "\n",
    "A **feature contribution explanation** shows how much each feature contributed to an ML model's prediction. Contributions are negative if a given feature value decreased the model prediction, and positive if it increased the model prediction.\n",
    "\n",
    "For example, consider a model that predicts the sale price of a house. A feature contribution explanation may tell you that the price increased by \\\\$8,000 because the house is in a good neighborhood, and decreased by \\\\$1,000 because it has two bedrooms. This information could be shown as a table with the following data:\n",
    "\n",
    "| Feature | Value | Contribution |\n",
    "|---|---|---|\n",
    "| Neighborhood Quality | Good | 8000 |\n",
    "| Bedrooms | 2 | -1000 |\n",
    "\n",
    "## How to Use Pyreal\n",
    "\n",
    "Pyreal is python library that generates ML model explanations such as feature contribution explanations.\n",
    "\n",
    "To use Pyreal, you must first make a RealApp object, which takes in data, a trained ML model, and a list of transformers. We will provide any data, model, or transformers you need to complete the tasks in this study.\n",
    "\n",
    "You can then use the RealApp to generate explanations, and then use Pyreal's **visualize** module to make graphs of the explanations.\n",
    "\n",
    "**⭐ Run the sample code below for an example of how to use Pyreal. You can use/copy this code throughout the study as needed.**\n",
    "\n",
    "For more information on how to use Pyreal, you can consult the [documentation](https://dtail.gitbook.io/pyreal). However, the sample code below should be sufficient to complete this user study.\n"
   ],
   "metadata": {
    "id": "dQFuo5HDzxm_"
   }
  },
  {
   "cell_type": "code",
   "source": "import os\nimport joblib\nimport pandas as pd\nfrom pyreal import RealApp\nfrom pyreal.visualize import feature_bar_plot\n\nDIR_BIKE = \"../datasets/bike-sharing/\"\n\n# Required components - these will be given to you\ndata_train = pd.read_csv(DIR_BIKE + \"bike-sharing_train-data.csv\")\ny_train = data_train[\"cnt\"]\nX_train = data_train.drop(columns=\"cnt\")\npipeline = joblib.load(DIR_BIKE + \"bike-sharing_pipeline.pkl\")\ndays_of_interest = pd.read_csv(DIR_BIKE + \"bike-sharing_input.csv\")\n\n# Use this sample code for the tasks below\n# Create new explanation application object from the sklearn pipeline\nrealapp = RealApp.from_sklearn(pipeline, X_train=X_train, y_train=y_train)\n\n# Produce a feature contribution explanations\nexp = realapp.produce_feature_contributions(days_of_interest)\n\n# Visualize the explanation for the first block\nfeature_bar_plot(exp[0], num_features=8, select_by=\"absolute\")\n\n# Visualize the explanation for the second block\nfeature_bar_plot(exp[1], num_features=8, select_by=\"absolute\")",
   "metadata": {
    "id": "38fMvxbYy7_G",
    "tags": [],
    "trusted": true
   },
   "execution_count": null,
   "outputs": []
  },
  {
   "cell_type": "markdown",
   "source": "**⭐ Run the cell below to initialize data access URLs.**\n",
   "metadata": {
    "id": "Jrv3ETBVzbpO"
   }
  },
  {
   "cell_type": "code",
   "source": "DIR_BASE = \"../datasets/\"\nDIR_CALIFORNIA = DIR_BASE + \"california-housing/\"\nDIR_CHURN = DIR_BASE + \"cell-phone-churn/\"\nDIR_STUDENT = DIR_BASE + \"student-performance/\"",
   "metadata": {
    "id": "Pcl53M-Tpca1",
    "trusted": true
   },
   "execution_count": null,
   "outputs": []
  },
  {
   "cell_type": "markdown",
   "source": "## Dataset 1: Iranian Churn data\n\n### Preparing data and model\n\nWe will be asking you to generate interpretable explanations on multiple datasets. We will begin with the [Iranian Churn Dataset](https://archive.ics.uci.edu/dataset/563/iranian+churn+dataset).\n\nIn this dataset, each row represents a customer of a cell phone company. The target variable we are predicting is whether that customer will churn (ie., cancel their subscription with the company) after one year of service.\n\n**⭐Run the following cell to load the training data, the pretrained ML model, and a list of data transformers for this dataset.**",
   "metadata": {
    "id": "ziVVIdku1d52"
   }
  },
  {
   "cell_type": "code",
   "source": "import pandas as pd\nimport joblib\nimport urllib\n\n# Load in data\ndata_train = pd.read_csv(DIR_CHURN + \"cell-phone-churn_train-data.csv\")\ny_train = data_train[\"Churn\"]\nX_train = data_train.drop(columns=\"Churn\")\n\n# Load in sklearn pipeline\npipeline = joblib.load(DIR_CHURN + \"cell-phone-churn_pipeline.pkl\")",
   "metadata": {
    "id": "wmTAelWS1bTt",
    "trusted": true
   },
   "execution_count": null,
   "outputs": []
  },
  {
   "cell_type": "markdown",
   "source": "### Generating explanations\n\nIn the following cell, we load in a few dataset customers of interest.\n\n**⭐Generate one feature contribution explanation per customer, explaining the model's prediction on these customers. The explanations should be presented as bar plots showing the 8 features that contribute the most (absolute value).**\n\nIf you have done so correctly, you should end up with 3 bar plot explanations, similar to the ones generated by the sample code.\n",
   "metadata": {
    "id": "yZ3tYR0NBCSr"
   }
  },
  {
   "cell_type": "code",
   "source": "customers_of_interest = pd.read_csv(DIR_CHURN + \"cell-phone-churn_input.csv\")\n\n# YOUR CODE HERE\n# FOLLOW THE EXAMPLE OF THE SAMPLE CODE ABOVE\n# YOU SHOULD GENERATE 3 BAR PLOT GRAPHS TOTAL\nsolution = 1",
   "metadata": {
    "id": "oamF39qcArnE",
    "trusted": true
   },
   "execution_count": null,
   "outputs": []
  },
  {
   "cell_type": "markdown",
   "source": "## California Housing Dataset\n\nNext, we will ask you to make interpretable explanations on the [California Housing Dataset]()\n\nIn this dataset, each row refers to a block of houses in California, and the target variable to predict is the median price of houses in this block.\n\n**⭐Run the following cell to load the training data, the pretrained ML model, and a list of data transformers for this dataset.**",
   "metadata": {
    "id": "BvO_a7EtC-3U"
   }
  },
  {
   "cell_type": "code",
   "source": "# Load in data\ndata_train = pd.read_csv(DIR_CALIFORNIA + \"california-housing_train-data.csv\")\ny_train = data_train[\"MedianPrice\"]\nX_train = data_train.drop(columns=\"MedianPrice\")\n\n# Load in sklearn pipeline\npipeline = joblib.load(DIR_CALIFORNIA + \"california-housing_pipeline.pkl\")",
   "metadata": {
    "id": "vg-dRvALD4Cg",
    "trusted": true
   },
   "execution_count": null,
   "outputs": []
  },
  {
   "cell_type": "markdown",
   "source": "### Generating explanations\n\nIn the following cell, we load in a few dataset housing blocks of interest.\n\n**⭐Generate one feature contribution explanation per block, explaining the model's prediction on these blocks. The explanations should be presented as bar plots showing the 8 features that contribute the most (absolute value).**\n\nIf you have done so correctly, you should end up with 3 bar plot explanations.",
   "metadata": {
    "id": "5C-Jk3TPxeaB"
   }
  },
  {
   "cell_type": "code",
   "source": "blocks_of_interest = pd.read_csv(DIR_CALIFORNIA + \"california-housing_input.csv\")\n\n# YOUR CODE HERE\n# FOLLOW THE EXAMPLE OF THE SAMPLE CODE ABOVE\n# YOU SHOULD GENERATE 3 BAR PLOT GRAPHS TOTAL",
   "metadata": {
    "id": "ZE14yWQPvR87",
    "trusted": true
   },
   "execution_count": null,
   "outputs": []
  },
  {
   "cell_type": "markdown",
   "source": "## Student Performance Dataset\n\nNext, we will ask you to make interpretable explanations on the [Student Performance Dataset]()\n\nIn this dataset, each row refers to a student at a school in Portugal, and the target variable to predict is whether they will pass or fail a class.\n\n**⭐Run the following cell to load the training data, the pretrained ML model, and a list of data transformers for this dataset.**",
   "metadata": {
    "id": "lN0CLBAnz8m-"
   }
  },
  {
   "cell_type": "code",
   "source": "# Load in data\ndata_train = pd.read_csv(DIR_STUDENT + \"student-performance_train-data.csv\")\ny_train = data_train[\"Pass\"]\nX_train = data_train.drop(columns=\"Pass\")\n\n# Load in sklearn pipeline\npipeline = joblib.load(DIR_STUDENT + \"student-performance_pipeline.pkl\")",
   "metadata": {
    "id": "Ql7BL17a0LDY",
    "trusted": true
   },
   "execution_count": null,
   "outputs": []
  },
  {
   "cell_type": "markdown",
   "source": "### Generating explanations\n\nIn the following cell, we load in a few dataset students of interest.\n\n**⭐Generate one feature contribution explanation per student, explaining the model's prediction on these students. The explanations should be presented as bar plots showing the 8 features that contribute the most (absolute value).**\n\nIf you have done so correctly, you should end up with 3 bar plot explanations.\n",
   "metadata": {
    "id": "rDzz5z511mGa"
   }
  },
  {
   "cell_type": "code",
   "source": "students_of_interest = pd.read_csv(DIR_STUDENT + \"student-performance_input.csv\")\n\n# YOUR CODE HERE\n# FOLLOW THE EXAMPLE OF THE SAMPLE CODE ABOVE\n# YOU SHOULD GENERATE 3 BAR PLOT GRAPHS TOTAL",
   "metadata": {
    "tags": [],
    "id": "sgqRD7Kb0TWt",
    "trusted": true
   },
   "execution_count": null,
   "outputs": []
  },
  {
   "cell_type": "markdown",
   "source": [
    "**⭐Please answer the final retrospective questions in the block below:**"
   ],
   "metadata": {
    "collapsed": false
   }
  },
  {
   "cell_type": "code",
   "outputs": [],
   "source": [
    "# 1. How difficult was it to generate explanations using Pyreal? Please answer on a scale from 1 to 5, where 1 means very difficult and 5 means very easy.\n",
    "# ANSWER HERE: (1-5)\n",
    "\n",
    "# 2. If you found yourself in a situation where you needed to get explanations of ML model predictions, how likely would you be to use Pyreal? Please answer on a scale from 1 to 5, where 1 means very unlikely and 5 means very likely.\n",
    "# ANSWER HERE: (1-5)"
   ],
   "metadata": {
    "collapsed": false,
    "ExecuteTime": {
     "end_time": "2024-04-16T21:24:47.937107300Z",
     "start_time": "2024-04-16T21:24:47.925039500Z"
    }
   },
   "execution_count": 1
  },
  {
   "cell_type": "markdown",
   "source": [
    "**⭐Thank you for completing the user study! To submit your work, please use the Download button in the top toolbar (or File->Download) to save the notebook, and then submit the downloaded notebook on the original survey page.**"
   ],
   "metadata": {}
  }
 ]
}
